{
 "cells": [
  {
   "cell_type": "markdown",
   "id": "84ca440f-0bd9-4c71-a330-d3e490eb0c39",
   "metadata": {},
   "source": [
    "___________________________________________________________________________</br>\n",
    "REDLY:  Resilience Enhancements for Deep Learning Yields</br>\n",
    "Copyright 2024 National Technology & Engineering Solutions of Sandia, LLC</br>\n",
    "(NTESS). Under the terms of Contract DE-NA0003525 with NTESS, the U.S.</br>\n",
    "Government retains certain rights in this software.</br>\n",
    "This software is distributed under the Revised BSD License.</br>\n",
    "___________________________________________________________________________"
   ]
  },
  {
   "cell_type": "markdown",
   "id": "2fece567-c47a-4a63-a722-3e359a51ac68",
   "metadata": {},
   "source": [
    "# ACPF Train Example\n",
    "Example of training a single ACPF prediction model (no pruning)"
   ]
  },
  {
   "cell_type": "markdown",
   "id": "6963541b-88e6-4bf1-a162-4486fdbc3540",
   "metadata": {},
   "source": [
    "### Imports"
   ]
  },
  {
   "cell_type": "code",
   "execution_count": null,
   "id": "474551da-6b6f-47ab-a327-dd8bf04f0aa1",
   "metadata": {},
   "outputs": [],
   "source": [
    "import numpy as np\n",
    "import tensorflow as tf\n",
    "from tensorflow.keras.optimizers import Adam\n",
    "import json\n",
    "\n",
    "from src.acpf.losses import BMSELoss, BMSEMetric\n",
    "from src.acpf.callbacks import TimeCallback, ESCallback, LDCallback\n",
    "from src.acpf.datasets import ACPFDataset\n",
    "from src.acpf.models import buildACPFModel\n",
    "from src.acpf.utils import save_run, load_run, plot_run_loss, plot_run_errors, get_single_run, get_single_summary"
   ]
  },
  {
   "cell_type": "markdown",
   "id": "369e2c3e-a86f-4672-b731-f8b482117559",
   "metadata": {},
   "source": [
    "### Configuration"
   ]
  },
  {
   "cell_type": "code",
   "execution_count": null,
   "id": "e7c547aa-62bf-40e4-a014-c59d61233d0e",
   "metadata": {},
   "outputs": [],
   "source": [
    "with open('src/acpf/ieee_case14.json', 'r') as f:\n",
    "    config = json.load(f)\n",
    "dofit = True                          # set to False to load a previous run\n",
    "\n",
    "b_p = config['b_p']                   # boundary pt. fraction\n",
    "ilayers = config['ilayers']           # internal model layer widths\n",
    "alpha = config['alpha']               # LeakyReLU alpha parameter\n",
    "dropout = config['dropout']           # dropout rate\n",
    "rho = config['rho']                   # LD rho update parameter\n",
    "ld_int = config['ld_int']             # initial LD interval length\n",
    "ld_prog = config['ld_prog']           # LD arithmetic progression parameter\n",
    "batch = config['batch']               # batch size\n",
    "epochs = config['epochs']             # num. epochs\n",
    "patience = config['patience']         # patience for early stopping\n",
    "lr = config['lr']                     # learning rate  \n",
    "constraints = config['constraints']   # selected constraints\n",
    "\n",
    "# set up folder + name prefix for saving output\n",
    "folder = config['folder']\n",
    "name_prefix = '%s_b_%.2g_a_%.2g_d_%.2g_ldi_%d_ldp_%d_single'%(\n",
    "    config['name'], b_p, alpha, dropout, ld_int, ld_prog)"
   ]
  },
  {
   "cell_type": "markdown",
   "id": "e7e5126e-a45a-4e70-965a-f9d788a9075e",
   "metadata": {},
   "source": [
    "### Model Definition and Training"
   ]
  },
  {
   "cell_type": "code",
   "execution_count": null,
   "id": "8b123cb3-1c00-4a1d-87a4-cbad909ab623",
   "metadata": {},
   "outputs": [],
   "source": [
    "dataset = ACPFDataset(config, b_p=b_p, constraints=constraints)\n",
    "\n",
    "if dofit:\n",
    "    dataset.verify()\n",
    "    dataset.get_splits(batch=batch)\n",
    "    dataset.save_splits(folder, name_prefix)\n",
    "else:\n",
    "    dataset.load_splits(folder, name_prefix, batch=batch)\n",
    "    dataset.verify(split='train')"
   ]
  },
  {
   "cell_type": "code",
   "execution_count": null,
   "id": "59abd821-0c9a-4395-9fd1-ecee531bbbfa",
   "metadata": {},
   "outputs": [],
   "source": [
    "if dofit:\n",
    "    # define model\n",
    "    model = buildACPFModel(ilayers, dataset.model_data, constraints=dataset.constraints, \n",
    "                           alpha=alpha, dropout=dropout)\n",
    "\n",
    "    # define callbacks/metrics\n",
    "    opt = Adam(amsgrad=True, lr=lr)\n",
    "    tcb = TimeCallback()\n",
    "    escb = ESCallback(patience=patience)\n",
    "    ldcb = LDCallback(opt, rho=rho, ld_int=ld_int, ld_prog=ld_prog)\n",
    "    loss = BMSELoss(dataset.model_data)\n",
    "    bmse = BMSEMetric(dataset.model_data)\n",
    "\n",
    "    # compile + train\n",
    "    model.compile(loss=loss, optimizer=opt, metrics=[bmse], \n",
    "                  steps_per_execution=len(dataset.train))\n",
    "    \n",
    "    history = model.fit(dataset.train, validation_data=dataset.val, \n",
    "                        epochs=epochs, callbacks=[tcb, escb, ldcb])\n",
    "\n",
    "    histdict = history.history\n",
    "    save_run(folder, name_prefix, model, dataset.model_data, histdict)"
   ]
  },
  {
   "cell_type": "markdown",
   "id": "dbf35ca4-4a25-4187-bc14-eaeba9cf5474",
   "metadata": {},
   "source": [
    "### Model Evaluation"
   ]
  },
  {
   "cell_type": "code",
   "execution_count": null,
   "id": "ebfa1498-995b-4998-9635-cac346a76a6d",
   "metadata": {},
   "outputs": [],
   "source": [
    "# clear graph state\n",
    "tf.compat.v1.reset_default_graph()\n",
    "\n",
    "# load run\n",
    "model, model_data, mask_data, histdict = load_run(\n",
    "    folder, name_prefix, ilayers, constraints=constraints, alpha=alpha, dropout=dropout)"
   ]
  },
  {
   "cell_type": "markdown",
   "id": "98179bac-eb29-4acd-b343-d693baed5703",
   "metadata": {},
   "source": [
    "Summarize and Plot losses"
   ]
  },
  {
   "cell_type": "code",
   "execution_count": null,
   "id": "d0ee9117-120d-4f2c-9fd2-997ce8e13a99",
   "metadata": {},
   "outputs": [],
   "source": [
    "print('Argmin_epoch: %d, argmin_loss: %.2e'%(np.argmin(histdict['val_loss']), \n",
    "                                             np.min(histdict['val_loss'])))\n",
    "\n",
    "plot_run_loss([histdict], keys=['bmse_metric'], ld_int=ld_int, ld_prog=ld_prog, figsize=(6,6))"
   ]
  },
  {
   "cell_type": "markdown",
   "id": "e8f304fc-9150-400f-b692-5fe90b368c9f",
   "metadata": {},
   "source": [
    "Summarize and Plot Prediction Errors"
   ]
  },
  {
   "cell_type": "code",
   "execution_count": null,
   "id": "dcff5847-e340-4ff5-8e3c-430692f6f966",
   "metadata": {},
   "outputs": [],
   "source": [
    "dft = get_single_run(model, dataset)\n",
    "sdf = get_single_summary(histdict, dft, dataset.model_data)\n",
    "sdf"
   ]
  },
  {
   "cell_type": "code",
   "execution_count": null,
   "id": "2c1efe4d-0a36-4dd7-9c45-e89b6a1109f9",
   "metadata": {},
   "outputs": [],
   "source": [
    "plot_run_errors(sdf, figsize=(8,8), fontsize=12, titlesize=14)"
   ]
  },
  {
   "cell_type": "code",
   "execution_count": null,
   "id": "680ece00-14b3-4a85-a4e1-a0fe5b3b1e91",
   "metadata": {},
   "outputs": [],
   "source": []
  }
 ],
 "metadata": {
  "kernelspec": {
   "display_name": "Python 3 (ipykernel)",
   "language": "python",
   "name": "python3"
  },
  "language_info": {
   "codemirror_mode": {
    "name": "ipython",
    "version": 3
   },
   "file_extension": ".py",
   "mimetype": "text/x-python",
   "name": "python",
   "nbconvert_exporter": "python",
   "pygments_lexer": "ipython3",
   "version": "3.10.13"
  }
 },
 "nbformat": 4,
 "nbformat_minor": 5
}
