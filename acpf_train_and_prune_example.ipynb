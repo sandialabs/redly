{
 "cells": [
  {
   "cell_type": "markdown",
   "id": "6264c783-d526-4ff6-87f4-5b1df779bbd8",
   "metadata": {},
   "source": [
    "___________________________________________________________________________</br>\n",
    "REDLY:  Resilience Enhancements for Deep Learning Yields</br>\n",
    "Copyright 2024 National Technology & Engineering Solutions of Sandia, LLC</br>\n",
    "(NTESS). Under the terms of Contract DE-NA0003525 with NTESS, the U.S.</br>\n",
    "Government retains certain rights in this software.</br>\n",
    "This software is distributed under the Revised BSD License.</br>\n",
    "___________________________________________________________________________"
   ]
  },
  {
   "cell_type": "markdown",
   "id": "3c055c06-4a4a-4832-9141-f7824ba3b469",
   "metadata": {},
   "source": [
    "# ACPF Train and Prune Example\n",
    "Example of using pruning to train a series of ACPF prediction models"
   ]
  },
  {
   "cell_type": "markdown",
   "id": "c647a7df-aa3c-40e9-912c-c9a5b988a88b",
   "metadata": {},
   "source": [
    "### Imports"
   ]
  },
  {
   "cell_type": "code",
   "execution_count": null,
   "id": "023db0d4-c802-4a4e-ba0d-83fadef96386",
   "metadata": {},
   "outputs": [],
   "source": [
    "import copy\n",
    "import numpy as np\n",
    "import tensorflow as tf\n",
    "from tensorflow.keras.optimizers import Adam\n",
    "import json\n",
    "\n",
    "from src.acpf.losses import BMSELoss, BMSEMetric\n",
    "from src.acpf.callbacks import TimeCallback, ESCallback, LDCallback, LTHCallback\n",
    "from src.acpf.datasets import ACPFDataset\n",
    "from src.acpf.models import buildACPFModel\n",
    "from src.acpf.utils import save_run, get_runs, plot_run_loss, get_summary, plot_run_errors"
   ]
  },
  {
   "cell_type": "markdown",
   "id": "28719fc2-be4b-43e4-bf96-374b7f0c3e74",
   "metadata": {},
   "source": [
    "### Configuration"
   ]
  },
  {
   "cell_type": "code",
   "execution_count": null,
   "id": "ced4f605-a596-41b7-a7ba-272faa481b9a",
   "metadata": {},
   "outputs": [],
   "source": [
    "with open('src/acpf/ieee_case14.json', 'r') as f:\n",
    "    config = json.load(f)\n",
    "dofit = True                          # set to False to load a previous run\n",
    "\n",
    "b_p = config['b_p']                   # boundary pt. fraction\n",
    "ilayers = config['ilayers']           # internal model layer widths\n",
    "alpha = config['alpha']               # LeakyReLU alpha parameter\n",
    "dropout = config['dropout']           # dropout rate\n",
    "rho = config['rho']                   # LD rho update parameter\n",
    "ld_int = config['ld_int']             # initial LD interval length\n",
    "ld_prog = config['ld_prog']           # LD arithmetic progression parameter\n",
    "batch = config['batch']               # batch size\n",
    "epochs = config['epochs']             # num. epochs\n",
    "patience = config['patience']         # patience for early stopping\n",
    "lr = config['lr']                     # learning rate  \n",
    "constraints = config['constraints']   # selected constraints\n",
    "runs = config['runs']                 # num LTH runs\n",
    "ithresh = config['ithresh']           # LTH mask threshold for inner layers\n",
    "othresh = config['othresh']           # LTH mask threshold for final layer\n",
    "\n",
    "# set up folder + name prefix for saving output\n",
    "folder = config['folder']\n",
    "name_prefix = '%s_b_%.2g_a_%.2g_d_%.2g_ldi_%d_ldp_%d'%(\n",
    "    config['name'], b_p, alpha, dropout, ld_int, ld_prog)"
   ]
  },
  {
   "cell_type": "markdown",
   "id": "2f624d0f-c8b2-4535-903f-4faf346ef349",
   "metadata": {},
   "source": [
    "### Model Definition and Training"
   ]
  },
  {
   "cell_type": "code",
   "execution_count": null,
   "id": "7adef4cd-53c4-46a4-856b-f8a21e7e6887",
   "metadata": {},
   "outputs": [],
   "source": [
    "dataset = ACPFDataset(config, b_p=b_p, constraints=constraints)\n",
    "\n",
    "if dofit:\n",
    "    dataset.verify()\n",
    "    dataset.get_splits(batch=batch)\n",
    "    dataset.save_splits(folder, name_prefix)\n",
    "else:\n",
    "    dataset.load_splits(folder, name_prefix, batch=batch)\n",
    "    dataset.verify(split='train')"
   ]
  },
  {
   "cell_type": "code",
   "execution_count": null,
   "id": "8a6abfdc-e2a4-44a4-86dc-deebf0f6073d",
   "metadata": {},
   "outputs": [],
   "source": [
    "if dofit:\n",
    "    mask_data = {}\n",
    "    for run in range(runs):\n",
    "        # clear graph state\n",
    "        tf.compat.v1.reset_default_graph()\n",
    "\n",
    "        # define model\n",
    "        model = buildACPFModel(ilayers, dataset.model_data, constraints=dataset.constraints, \n",
    "                               mask_data=mask_data, alpha=alpha, dropout=dropout)\n",
    "\n",
    "        # define callbacks/metrics\n",
    "        opt = Adam(amsgrad=True, lr=lr)\n",
    "        tcb = TimeCallback()\n",
    "        escb = ESCallback(patience=patience)\n",
    "        ldcb = LDCallback(opt, rho=rho, ld_int=ld_int, ld_prog=ld_prog)\n",
    "        lthcb = LTHCallback(ithresh=ithresh, othresh=othresh, mask_data=mask_data)\n",
    "        loss = BMSELoss(dataset.model_data)\n",
    "        bmse = BMSEMetric(dataset.model_data)\n",
    "\n",
    "        # compile + train\n",
    "        model.compile(loss=loss, optimizer=opt, metrics=[bmse], \n",
    "                      steps_per_execution=len(dataset.train))\n",
    "\n",
    "        history = model.fit(dataset.train, validation_data=dataset.val, \n",
    "                            epochs=epochs, callbacks=[tcb, escb, ldcb, lthcb])\n",
    "\n",
    "        histdict = history.history\n",
    "        mask_data = copy.deepcopy(lthcb.mask_data) # dicts were being passed by reference  \n",
    "        save_run(folder, '%s_run_%d'%(name_prefix, run), model, dataset.model_data, \n",
    "                 histdict, mask_data=mask_data)"
   ]
  },
  {
   "cell_type": "markdown",
   "id": "a38f0dd9-2006-4110-936b-59552852b0c8",
   "metadata": {},
   "source": [
    "### Evaluation"
   ]
  },
  {
   "cell_type": "code",
   "execution_count": null,
   "id": "b7a379ac-f9df-47c5-863e-4fcfad7fedba",
   "metadata": {},
   "outputs": [],
   "source": [
    "histories, dfs, mdatas = get_runs(folder, name_prefix, runs, ilayers, dataset, \n",
    "                                  constraints=constraints, alpha=alpha, dropout=dropout)"
   ]
  },
  {
   "cell_type": "markdown",
   "id": "0af723aa-6b49-473d-a151-f6ea1c094efd",
   "metadata": {},
   "source": [
    "Summarize and Plot Losses"
   ]
  },
  {
   "cell_type": "code",
   "execution_count": null,
   "id": "a6d30c76-16c1-4174-a825-e8de30f0861e",
   "metadata": {},
   "outputs": [],
   "source": [
    "for run, history in enumerate(histories):\n",
    "    print('Run: %d, argmin_epoch: %d, argmin_loss: %.2e'%(run, np.argmin(history['val_loss']),\n",
    "                                                          np.min(history['val_loss'])))\n",
    "\n",
    "plot_run_loss(histories, keys=['bmse_metric'], ld_int=ld_int, ld_prog=ld_prog, figsize=(12,8))"
   ]
  },
  {
   "cell_type": "markdown",
   "id": "7e8e2559-6cb2-4ac6-a43c-46430cc6a6a5",
   "metadata": {},
   "source": [
    "Summarize and Plot Prediction Errors"
   ]
  },
  {
   "cell_type": "code",
   "execution_count": null,
   "id": "2665a459-3442-4995-b958-c30c1982a77e",
   "metadata": {},
   "outputs": [],
   "source": [
    "sdf = get_summary(histories, dfs, mdatas, dataset.model_data)\n",
    "sdf"
   ]
  },
  {
   "cell_type": "code",
   "execution_count": null,
   "id": "49081189-6b16-40c1-958b-4b09c114f300",
   "metadata": {},
   "outputs": [],
   "source": [
    "plot_run_errors(sdf, figsize=(8,8), fontsize=12, titlesize=14)"
   ]
  },
  {
   "cell_type": "code",
   "execution_count": null,
   "id": "0711aaa8-0515-421e-92f9-fa8ecaead373",
   "metadata": {},
   "outputs": [],
   "source": []
  }
 ],
 "metadata": {
  "kernelspec": {
   "display_name": "Python 3 (ipykernel)",
   "language": "python",
   "name": "python3"
  },
  "language_info": {
   "codemirror_mode": {
    "name": "ipython",
    "version": 3
   },
   "file_extension": ".py",
   "mimetype": "text/x-python",
   "name": "python",
   "nbconvert_exporter": "python",
   "pygments_lexer": "ipython3",
   "version": "3.10.13"
  }
 },
 "nbformat": 4,
 "nbformat_minor": 5
}
